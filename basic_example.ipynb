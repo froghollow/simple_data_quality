{
 "cells": [
  {
   "cell_type": "markdown",
   "metadata": {},
   "source": [
    "# Basic Example\n",
    "Here is a basic example of running a `VerificationSuite` with a couple `checks` and then filtering them based on their results. \n",
    "\n",
    "This notebook copied from the [PyDeequ tutorial](https://github.com/awslabs/python-deequ/blob/master/tutorials/basic_example.ipynb), has been enhanced to produce the same result using DQDL-like syntax to dynamically generate and run a list of 'check' constraints.\n",
    "\n",
    "We'll start by creating a Spark session and a small sample dataframe."
   ]
  },
  {
   "cell_type": "code",
   "execution_count": 1,
   "metadata": {},
   "outputs": [
    {
     "name": "stdout",
     "output_type": "stream",
     "text": [
      "Looking in indexes: https://pypi.org/simple, https://pip.repos.neuron.amazonaws.com\n",
      "Requirement already satisfied: pydeequ in /home/ec2-user/anaconda3/envs/python3/lib/python3.10/site-packages (1.1.0)\n",
      "Requirement already satisfied: pandas>=0.23.0 in /home/ec2-user/anaconda3/envs/python3/lib/python3.10/site-packages (from pydeequ) (1.5.2)\n",
      "Requirement already satisfied: numpy>=1.14.1 in /home/ec2-user/anaconda3/envs/python3/lib/python3.10/site-packages (from pydeequ) (1.22.3)\n",
      "Requirement already satisfied: python-dateutil>=2.8.1 in /home/ec2-user/anaconda3/envs/python3/lib/python3.10/site-packages (from pandas>=0.23.0->pydeequ) (2.8.2)\n",
      "Requirement already satisfied: pytz>=2020.1 in /home/ec2-user/anaconda3/envs/python3/lib/python3.10/site-packages (from pandas>=0.23.0->pydeequ) (2022.7)\n",
      "Requirement already satisfied: six>=1.5 in /home/ec2-user/anaconda3/envs/python3/lib/python3.10/site-packages (from python-dateutil>=2.8.1->pandas>=0.23.0->pydeequ) (1.16.0)\n"
     ]
    }
   ],
   "source": [
    "%%bash\n",
    "pip install pydeequ"
   ]
  },
  {
   "cell_type": "code",
   "execution_count": 2,
   "metadata": {},
   "outputs": [],
   "source": [
    "# unzip dependencies from local file, since Maven is blocked from within WC2(H) VPC\n",
    "import zipfile\n",
    "import os\n",
    "\n",
    "S_rootdir = os.getcwd()\n",
    "\n",
    "with zipfile.ZipFile( f\"{S_rootdir}/common/ivy2cache.zip\" ) as z:\n",
    "    z.extractall( f\"{os.environ['HOME']}/.ivy2\" )\n"
   ]
  },
  {
   "cell_type": "code",
   "execution_count": 3,
   "metadata": {},
   "outputs": [],
   "source": [
    "import os \n",
    "os.environ['AWS_DEFAULT_REGION'] = 'us-gov-west-1'\n",
    "os.environ[\"SPARK_VERSION\"] = '3.0'"
   ]
  },
  {
   "cell_type": "code",
   "execution_count": 4,
   "metadata": {
    "collapsed": true,
    "jupyter": {
     "outputs_hidden": true
    }
   },
   "outputs": [
    {
     "name": "stderr",
     "output_type": "stream",
     "text": [
      "Warning: Ignoring non-Spark config property: fs.s3a.endpoint\n"
     ]
    },
    {
     "name": "stdout",
     "output_type": "stream",
     "text": [
      ":: loading settings :: url = jar:file:/home/ec2-user/anaconda3/envs/python3/lib/python3.10/site-packages/pyspark/jars/ivy-2.5.0.jar!/org/apache/ivy/core/settings/ivysettings.xml\n"
     ]
    },
    {
     "name": "stderr",
     "output_type": "stream",
     "text": [
      "Ivy Default Cache set to: /home/ec2-user/.ivy2/cache\n",
      "The jars for the packages stored in: /home/ec2-user/.ivy2/jars\n",
      "com.amazon.deequ#deequ added as a dependency\n",
      ":: resolving dependencies :: org.apache.spark#spark-submit-parent-21ad6e41-07ab-4404-b42b-4e0f95bfa383;1.0\n",
      "\tconfs: [default]\n",
      "\tfound com.amazon.deequ#deequ;1.2.2-spark-3.0 in central\n",
      "\tfound org.scalanlp#breeze_2.12;0.13.2 in central\n",
      "\tfound org.scalanlp#breeze-macros_2.12;0.13.2 in central\n",
      "\tfound org.scala-lang#scala-reflect;2.12.1 in central\n",
      "\tfound com.github.fommil.netlib#core;1.1.2 in central\n",
      "\tfound net.sf.opencsv#opencsv;2.3 in central\n",
      "\tfound com.github.rwl#jtransforms;2.4.0 in central\n",
      "\tfound junit#junit;4.8.2 in central\n",
      "\tfound org.apache.commons#commons-math3;3.2 in central\n",
      "\tfound org.spire-math#spire_2.12;0.13.0 in central\n",
      "\tfound org.spire-math#spire-macros_2.12;0.13.0 in central\n",
      "\tfound org.typelevel#machinist_2.12;0.6.1 in central\n",
      "\tfound com.chuusai#shapeless_2.12;2.3.2 in central\n",
      "\tfound org.typelevel#macro-compat_2.12;1.1.1 in central\n",
      "\tfound org.slf4j#slf4j-api;1.7.5 in central\n",
      ":: resolution report :: resolve 281ms :: artifacts dl 19ms\n",
      "\t:: modules in use:\n",
      "\tcom.amazon.deequ#deequ;1.2.2-spark-3.0 from central in [default]\n",
      "\tcom.chuusai#shapeless_2.12;2.3.2 from central in [default]\n",
      "\tcom.github.fommil.netlib#core;1.1.2 from central in [default]\n",
      "\tcom.github.rwl#jtransforms;2.4.0 from central in [default]\n",
      "\tjunit#junit;4.8.2 from central in [default]\n",
      "\tnet.sf.opencsv#opencsv;2.3 from central in [default]\n",
      "\torg.apache.commons#commons-math3;3.2 from central in [default]\n",
      "\torg.scala-lang#scala-reflect;2.12.1 from central in [default]\n",
      "\torg.scalanlp#breeze-macros_2.12;0.13.2 from central in [default]\n",
      "\torg.scalanlp#breeze_2.12;0.13.2 from central in [default]\n",
      "\torg.slf4j#slf4j-api;1.7.5 from central in [default]\n",
      "\torg.spire-math#spire-macros_2.12;0.13.0 from central in [default]\n",
      "\torg.spire-math#spire_2.12;0.13.0 from central in [default]\n",
      "\torg.typelevel#machinist_2.12;0.6.1 from central in [default]\n",
      "\torg.typelevel#macro-compat_2.12;1.1.1 from central in [default]\n",
      "\t:: evicted modules:\n",
      "\torg.scala-lang#scala-reflect;2.12.0 by [org.scala-lang#scala-reflect;2.12.1] in [default]\n",
      "\t---------------------------------------------------------------------\n",
      "\t|                  |            modules            ||   artifacts   |\n",
      "\t|       conf       | number| search|dwnlded|evicted|| number|dwnlded|\n",
      "\t---------------------------------------------------------------------\n",
      "\t|      default     |   16  |   0   |   0   |   1   ||   15  |   0   |\n",
      "\t---------------------------------------------------------------------\n",
      ":: retrieving :: org.apache.spark#spark-submit-parent-21ad6e41-07ab-4404-b42b-4e0f95bfa383\n",
      "\tconfs: [default]\n",
      "\t15 artifacts copied, 0 already retrieved (32953kB/128ms)\n"
     ]
    },
    {
     "name": "stdout",
     "output_type": "stream",
     "text": [
      "23/08/25 17:25:32 WARN NativeCodeLoader: Unable to load native-hadoop library for your platform... using builtin-java classes where applicable\n"
     ]
    },
    {
     "name": "stderr",
     "output_type": "stream",
     "text": [
      "Setting default log level to \"WARN\".\n",
      "To adjust logging level use sc.setLogLevel(newLevel). For SparkR, use setLogLevel(newLevel).\n"
     ]
    },
    {
     "name": "stdout",
     "output_type": "stream",
     "text": [
      "23/08/25 17:25:33 WARN Utils: Service 'SparkUI' could not bind on port 4040. Attempting port 4041.\n"
     ]
    }
   ],
   "source": [
    "from pyspark.sql import SparkSession, Row, DataFrame\n",
    "\n",
    "import sagemaker_pyspark\n",
    "import pydeequ\n",
    "\n",
    "classpath = \":\".join(sagemaker_pyspark.classpath_jars())\n",
    "\n",
    "from pyspark import SparkConf\n",
    "conf = (SparkConf()\n",
    "        .set('fs.s3a.endpoint', 's3-us-gov-west-1.amazonaws.com')\n",
    "       )\n",
    "\n",
    "spark = (SparkSession\n",
    "    .builder\n",
    "    .config(\"spark.driver.extraClassPath\", classpath)\n",
    "    .config(\"spark.jars.packages\", pydeequ.deequ_maven_coord)\n",
    "    .config(\"spark.jars.excludes\", pydeequ.f2j_maven_coord)\n",
    "    .config( conf=conf )\n",
    "    .getOrCreate())"
   ]
  },
  {
   "cell_type": "code",
   "execution_count": 5,
   "metadata": {},
   "outputs": [
    {
     "name": "stderr",
     "output_type": "stream",
     "text": [
      "                                                                                \r"
     ]
    },
    {
     "name": "stdout",
     "output_type": "stream",
     "text": [
      "+---+---+----+\n",
      "|  a|  b|   c|\n",
      "+---+---+----+\n",
      "|foo|  1|   5|\n",
      "|bar|  2|   6|\n",
      "|baz|  3|null|\n",
      "+---+---+----+\n",
      "\n"
     ]
    }
   ],
   "source": [
    "# create a trivial dataframe to play with ...\n",
    "df = spark.sparkContext.parallelize([\n",
    "    Row(a=\"foo\", b=1, c=5),\n",
    "    Row(a=\"bar\", b=2, c=6),\n",
    "    Row(a=\"baz\", b=3, c=None)]).toDF()\n",
    "df.show()"
   ]
  },
  {
   "cell_type": "markdown",
   "metadata": {},
   "source": [
    "Now, we will be importing the necessary `PyDeequ` modules for running a VerificationSuite with Checks. We will be checking the following: \n",
    "\n",
    "- does `df` have a size of at least 3? \n",
    "- does the `b` column have a minimum value of 0? \n",
    "- is the `c` column complete? \n",
    "- is the `a` column unique? \n",
    "- are the values of `a` column contained in \"foo\", \"bar\", and \"baz\"? \n",
    "- are the values in `b` colum non-negative? \n",
    "\n",
    "Once these checks are run, we'll display out the dataframe to see the results!\n"
   ]
  },
  {
   "cell_type": "code",
   "execution_count": 6,
   "metadata": {},
   "outputs": [
    {
     "name": "stdout",
     "output_type": "stream",
     "text": [
      "Python Callback server started!\n",
      "+----------------+-----------+------------+-----------------------------------------------------------------------------------------------------------+-----------------+-------------------------------------------------------------------+\n",
      "|check           |check_level|check_status|constraint                                                                                                 |constraint_status|constraint_message                                                 |\n",
      "+----------------+-----------+------------+-----------------------------------------------------------------------------------------------------------+-----------------+-------------------------------------------------------------------+\n",
      "|Integrity checks|Error      |Error       |SizeConstraint(Size(None))                                                                                 |Success          |                                                                   |\n",
      "|Integrity checks|Error      |Error       |MinimumConstraint(Minimum(b,None))                                                                         |Failure          |Value: 1.0 does not meet the constraint requirement!               |\n",
      "|Integrity checks|Error      |Error       |CompletenessConstraint(Completeness(c,None))                                                               |Failure          |Value: 0.6666666666666666 does not meet the constraint requirement!|\n",
      "|Integrity checks|Error      |Error       |UniquenessConstraint(Uniqueness(List(a),None))                                                             |Success          |                                                                   |\n",
      "|Integrity checks|Error      |Error       |ComplianceConstraint(Compliance(a contained in foo,bar,baz,`a` IS NULL OR `a` IN ('foo','bar','baz'),None))|Success          |                                                                   |\n",
      "|Integrity checks|Error      |Error       |ComplianceConstraint(Compliance(b is non-negative,COALESCE(CAST(b AS DECIMAL(20,10)), 0.0) >= 0,None))     |Success          |                                                                   |\n",
      "+----------------+-----------+------------+-----------------------------------------------------------------------------------------------------------+-----------------+-------------------------------------------------------------------+\n",
      "\n"
     ]
    },
    {
     "name": "stderr",
     "output_type": "stream",
     "text": [
      "/home/ec2-user/anaconda3/envs/python3/lib/python3.10/site-packages/pyspark/sql/dataframe.py:127: UserWarning: DataFrame constructor is internal. Do not directly use it.\n",
      "  warnings.warn(\"DataFrame constructor is internal. Do not directly use it.\")\n"
     ]
    }
   ],
   "source": [
    "from pydeequ.checks import *\n",
    "from pydeequ.verification import *\n",
    "\n",
    "check = Check(spark, CheckLevel.Error, \"Integrity checks\")\n",
    "\n",
    "checkResult = VerificationSuite(spark) \\\n",
    "    .onData(df) \\\n",
    "    .addCheck(\n",
    "        check.hasSize(lambda x: x >= 3) \\\n",
    "        .hasMin(\"b\", lambda x: x == 0) \\\n",
    "        .isComplete(\"c\")  \\\n",
    "        .isUnique(\"a\")  \\\n",
    "        .isContainedIn(\"a\", [\"foo\", \"bar\", \"baz\"]) \\\n",
    "        .isNonNegative(\"b\")) \\\n",
    "    .run()\n",
    "\n",
    "checkResult_df = VerificationResult.checkResultsAsDataFrame(spark, checkResult)\n",
    "checkResult_df.show(truncate=False)"
   ]
  },
  {
   "cell_type": "markdown",
   "metadata": {},
   "source": [
    "It's nice to see those as a dataframe, but we noticed a couple **Failures** in the `constraint_status` column! Let's filter them by accessing the `checkResults` property of our run."
   ]
  },
  {
   "cell_type": "code",
   "execution_count": 7,
   "metadata": {},
   "outputs": [
    {
     "name": "stdout",
     "output_type": "stream",
     "text": [
      "We found errors in the data, the following constraints were not satisfied:\n",
      "\tMinimumConstraint(Minimum(b,None)) failed because: Value: 1.0 does not meet the constraint requirement!\n",
      "\tCompletenessConstraint(Completeness(c,None)) failed because: Value: 0.6666666666666666 does not meet the constraint requirement!\n"
     ]
    }
   ],
   "source": [
    "if checkResult.status == \"Success\": \n",
    "    print('The data passed the test, everything is fine!')\n",
    "\n",
    "else:\n",
    "    print('We found errors in the data, the following constraints were not satisfied:')\n",
    "    \n",
    "    for check_json in checkResult.checkResults:\n",
    "        if check_json['constraint_status'] != \"Success\": \n",
    "            print(f\"\\t{check_json['constraint']} failed because: {check_json['constraint_message']}\")"
   ]
  },
  {
   "cell_type": "markdown",
   "metadata": {},
   "source": [
    "## Rules-based Dynamic Check\n",
    "Now we will reproduce the same result using a 'metadata' layer of rules following [DQDL-like syntax](https://docs.aws.amazon.com/glue/latest/dg/dqdl.html)."
   ]
  },
  {
   "cell_type": "code",
   "execution_count": 1,
   "metadata": {},
   "outputs": [],
   "source": [
    "# DQDL-like Rule List\n",
    "rules_list = [\n",
    "    'HasSize >= 3',\n",
    "    'HasMin \"b\" = 0',\n",
    "    'IsComplete \"c\"',\n",
    "    'IsUnique \"a\"',\n",
    "    'IsContainedIn \"a\" in [\"foo\",\"bar\",\"baz\"] ',\n",
    "    'IsNonNegative \"b\"'\n",
    "]\n"
   ]
  },
  {
   "cell_type": "code",
   "execution_count": 9,
   "metadata": {},
   "outputs": [],
   "source": [
    "def parse_dqdl_rule(rule_text):\n",
    "    import json\n",
    "    import re\n",
    "    \n",
    "    s = rule_text.split(' ', 2)\n",
    "\n",
    "    rule = {\n",
    "        'Type' : s[0],\n",
    "        'ColName' : '',\n",
    "        'Expression' : '',\n",
    "        'Lambda' : None,\n",
    "        'Text' : rule_text\n",
    "    }\n",
    "    if '\"' in s[1]:\n",
    "        rule['ColName'] = s[1].replace('\"','')\n",
    "        if len(s) == 3:\n",
    "            rule['Expression'] = s[2]\n",
    "    else:\n",
    "        rule['Expression'] = f\"{s[1]} {s[2]}\"\n",
    "\n",
    "    if re.search(\"[<=>]\", rule['Expression']):\n",
    "        xpr = rule['Expression'].split()\n",
    "        op =  xpr[0]\n",
    "        val = float(xpr[1])\n",
    "        if op == \"=\":\n",
    "            rule['Lambda'] = lambda x: x == val\n",
    "        elif op == \">\":\n",
    "            rule['Lambda'] = lambda x: x > val\n",
    "        elif op == \"<\":\n",
    "            rule['Lambda'] = lambda x: x < val\n",
    "        elif op == \">=\":\n",
    "            rule['Lambda'] = lambda x: x >= val\n",
    "        elif op == \"<=\":\n",
    "            rule['Lambda'] = lambda x: x <= val\n",
    "        \n",
    "    elif rule['Expression'].startswith('between'):\n",
    "        xpr = rule['Expression'].split()\n",
    "        lo = xpr[1]\n",
    "        hi = xpr[3]\n",
    "        rule['Lambda'] = lambda x: lo < x < hi\n",
    "        \n",
    "    #elif rule['Expression'].startswith('in'):  # ToDo\n",
    "    else:\n",
    "        print(\"Can't Parse Expression\")\n",
    "    \n",
    "    print(json.dumps(rule, indent=2, default=str))\n",
    "\n",
    "    return rule"
   ]
  },
  {
   "cell_type": "code",
   "execution_count": 10,
   "metadata": {},
   "outputs": [
    {
     "name": "stdout",
     "output_type": "stream",
     "text": [
      "{\n",
      "  \"Type\": \"HasSize\",\n",
      "  \"ColName\": \"\",\n",
      "  \"Expression\": \">= 3\",\n",
      "  \"Lambda\": \"<function parse_dqdl_rule.<locals>.<lambda> at 0x7f3c422ace50>\",\n",
      "  \"Text\": \"HasSize >= 3\"\n",
      "}\n",
      "{\n",
      "  \"Type\": \"HasMin\",\n",
      "  \"ColName\": \"b\",\n",
      "  \"Expression\": \"= 0\",\n",
      "  \"Lambda\": \"<function parse_dqdl_rule.<locals>.<lambda> at 0x7f3c42476e60>\",\n",
      "  \"Text\": \"HasMin \\\"b\\\" = 0\"\n",
      "}\n",
      "Can't Parse Expression\n",
      "{\n",
      "  \"Type\": \"IsComplete\",\n",
      "  \"ColName\": \"c\",\n",
      "  \"Expression\": \"\",\n",
      "  \"Lambda\": null,\n",
      "  \"Text\": \"IsComplete \\\"c\\\"\"\n",
      "}\n",
      "Can't Parse Expression\n",
      "{\n",
      "  \"Type\": \"IsUnique\",\n",
      "  \"ColName\": \"a\",\n",
      "  \"Expression\": \"\",\n",
      "  \"Lambda\": null,\n",
      "  \"Text\": \"IsUnique \\\"a\\\"\"\n",
      "}\n",
      "Can't Parse Expression\n",
      "{\n",
      "  \"Type\": \"IsContainedIn\",\n",
      "  \"ColName\": \"a\",\n",
      "  \"Expression\": \"in [\\\"foo\\\", \\\"bar\\\", \\\"baz\\\"] \",\n",
      "  \"Lambda\": null,\n",
      "  \"Text\": \"IsContainedIn \\\"a\\\" in [\\\"foo\\\", \\\"bar\\\", \\\"baz\\\"] \"\n",
      "}\n",
      "Skipping Check IsContainedIn -- Rule Type  is not implemented.\n",
      "Can't Parse Expression\n",
      "{\n",
      "  \"Type\": \"IsNonNegative\",\n",
      "  \"ColName\": \"b\",\n",
      "  \"Expression\": \"\",\n",
      "  \"Lambda\": null,\n",
      "  \"Text\": \"IsNonNegative \\\"b\\\"\"\n",
      "}\n",
      "+----------+-----------+------------+------------------------------------------------------------------------------------------------------+-----------------+-------------------------------------------------------------------+\n",
      "|check     |check_level|check_status|constraint                                                                                            |constraint_status|constraint_message                                                 |\n",
      "+----------+-----------+------------+------------------------------------------------------------------------------------------------------+-----------------+-------------------------------------------------------------------+\n",
      "|DQDL Rules|Error      |Error       |SizeConstraint(Size(None))                                                                            |Success          |                                                                   |\n",
      "|DQDL Rules|Error      |Error       |MinimumConstraint(Minimum(b,None))                                                                    |Failure          |Value: 1.0 does not meet the constraint requirement!               |\n",
      "|DQDL Rules|Error      |Error       |CompletenessConstraint(Completeness(c,None))                                                          |Failure          |Value: 0.6666666666666666 does not meet the constraint requirement!|\n",
      "|DQDL Rules|Error      |Error       |UniquenessConstraint(Uniqueness(List(a),None))                                                        |Success          |                                                                   |\n",
      "|DQDL Rules|Error      |Error       |ComplianceConstraint(Compliance(b is non-negative,COALESCE(CAST(b AS DECIMAL(20,10)), 0.0) >= 0,None))|Success          |                                                                   |\n",
      "+----------+-----------+------------+------------------------------------------------------------------------------------------------------+-----------------+-------------------------------------------------------------------+\n",
      "\n"
     ]
    }
   ],
   "source": [
    "    \n",
    "check = Check(spark, CheckLevel.Error, \"DQDL Rules\")\n",
    "\n",
    "for rule_text in rules_list:\n",
    "    rule = parse_dqdl_rule(rule_text)\n",
    "\n",
    "    if rule['Type'] == 'HasSize':\n",
    "        check.hasSize( rule['Lambda'] )\n",
    "    elif rule['Type'] == 'HasMin':\n",
    "        check.hasMin( rule['ColName'], rule['Lambda'] )\n",
    "    elif rule['Type'] == 'IsComplete':\n",
    "        check.isComplete( rule['ColName'] )        \n",
    "    elif rule['Type'] == 'IsUnique':\n",
    "        check.isUnique( rule['ColName'] )        \n",
    "    #elif rule['Type'] == 'IsContainedIn':   # ToDo\n",
    "    #    check.isContainedIn(rule['ColName'], [\"foo\",\"bar\",\"baz\"])\n",
    "    elif rule['Type'] == 'IsNonNegative':\n",
    "        check.isNonNegative( rule['ColName'] )\n",
    "    else:\n",
    "        print( f\"Skipping Check {rule['Type']} -- Rule Type  is not implemented.\")\n",
    "    #break\n",
    "\n",
    "checkResult = VerificationSuite(spark).onData(df).addCheck(check).run()\n",
    "checkResult_df = VerificationResult.checkResultsAsDataFrame(spark, checkResult)\n",
    "checkResult_df.show(truncate=False)\n"
   ]
  },
  {
   "cell_type": "code",
   "execution_count": null,
   "metadata": {},
   "outputs": [],
   "source": []
  }
 ],
 "metadata": {
  "kernelspec": {
   "display_name": "Python 3",
   "language": "python",
   "name": "python3"
  },
  "language_info": {
   "codemirror_mode": {
    "name": "ipython",
    "version": 3
   },
   "file_extension": ".py",
   "mimetype": "text/x-python",
   "name": "python",
   "nbconvert_exporter": "python",
   "pygments_lexer": "ipython3",
   "version": "3.8.3"
  }
 },
 "nbformat": 4,
 "nbformat_minor": 4
}
